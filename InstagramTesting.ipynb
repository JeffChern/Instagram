{
 "cells": [
  {
   "cell_type": "code",
   "execution_count": 4,
   "metadata": {},
   "outputs": [
    {
     "name": "stdout",
     "output_type": "stream",
     "text": [
      "DW出新錶了\n",
      "謝謝 @danielwellington \n",
      "黑色金屬錶帶搭配金色框完全我的菜\n",
      "收到錶隔天立刻戴著去踏青☀️\n",
      "結帳時輸入折扣碼【hellokatty】再打85折\n",
      "👉🏻http://www.danielwellington.com/\n",
      "#DW#danielweillington#newwatch\n",
      "text\n"
     ]
    },
    {
     "data": {
      "text/html": [
       "<img src=\"https://instagram.fsnc1-1.fna.fbcdn.net/t51.2885-15/e35/21690081_1930670110296268_3081138052714725376_n.jpg\" width=\"300\" height=\"300\"/>"
      ],
      "text/plain": [
       "<IPython.core.display.Image object>"
      ]
     },
     "metadata": {},
     "output_type": "display_data"
    },
    {
     "name": "stdout",
     "output_type": "stream",
     "text": [
      "photo\n",
      "https://www.instagram.com/p/BZLA8mulJrl/\n",
      "\n",
      "\n",
      "\n",
      "🍹\n",
      "text\n"
     ]
    },
    {
     "data": {
      "text/html": [
       "<img src=\"https://instagram.fsnc1-1.fna.fbcdn.net/t51.2885-15/e35/21820481_513482895670323_2446239279597223936_n.jpg\" width=\"300\" height=\"300\"/>"
      ],
      "text/plain": [
       "<IPython.core.display.Image object>"
      ]
     },
     "metadata": {},
     "output_type": "display_data"
    },
    {
     "name": "stdout",
     "output_type": "stream",
     "text": [
      "photo\n",
      "https://www.instagram.com/p/BZGgh43loey/\n",
      "\n",
      "\n",
      "\n",
      "#kattydayoff#summerfun\n",
      "text\n"
     ]
    },
    {
     "data": {
      "text/html": [
       "<img src=\"https://instagram.fsnc1-1.fna.fbcdn.net/t51.2885-15/e35/21577091_1118466311619884_538118406725959680_n.jpg\" width=\"300\" height=\"300\"/>"
      ],
      "text/plain": [
       "<IPython.core.display.Image object>"
      ]
     },
     "metadata": {},
     "output_type": "display_data"
    },
    {
     "name": "stdout",
     "output_type": "stream",
     "text": [
      "photo\n",
      "https://www.instagram.com/p/BZGUVt2lKEo/\n",
      "\n",
      "\n",
      "\n",
      "Day 1\n",
      "#OneBottleAwayFrom\n",
      "每個月都有好多長班，長時間待在乾燥的機艙又熬夜，加上每個國家的氣候都不同，所以常覺得皮膚乾燥沒光澤😔\n",
      "真的覺得認真保養皮膚很重要耶，尤其過25歲不能再偷懶了！\n",
      "其實之前偶爾就會用SK-II青春露濕敷，\n",
      "它有90%以上的PITERA™精華可以活化肌膚細胞。\n",
      "謝謝SK-II邀請♥\n",
      "今天起我會乖乖每天使用青春露\n",
      "一個月後再來看看成果吧\n",
      "拜託給我一張水潤晶瑩剔透的臉☺\n",
      "#一瓶挑戰 #青春露 #SKII #SKIITW\n",
      "text\n"
     ]
    },
    {
     "data": {
      "text/html": [
       "<img src=\"https://instagram.fsnc1-1.fna.fbcdn.net/t51.2885-15/e35/21577312_754744898060103_6380709290176413696_n.jpg\" width=\"300\" height=\"300\"/>"
      ],
      "text/plain": [
       "<IPython.core.display.Image object>"
      ]
     },
     "metadata": {},
     "output_type": "display_data"
    },
    {
     "name": "stdout",
     "output_type": "stream",
     "text": [
      "photo\n",
      "https://www.instagram.com/p/BZDunvbFyjP/\n",
      "\n",
      "\n",
      "\n",
      "可以再多待一天嗎想看F1啦🏁\n",
      "text\n"
     ]
    },
    {
     "data": {
      "text/html": [
       "<img src=\"https://instagram.fsnc1-1.fna.fbcdn.net/t51.2885-15/e35/21820032_120824165203395_5004586547173916672_n.jpg\" width=\"300\" height=\"300\"/>"
      ],
      "text/plain": [
       "<IPython.core.display.Image object>"
      ]
     },
     "metadata": {},
     "output_type": "display_data"
    },
    {
     "name": "stdout",
     "output_type": "stream",
     "text": [
      "photo\n",
      "https://www.instagram.com/p/BZC-fhEFNqM/\n",
      "\n",
      "\n",
      "\n",
      "EXCEPTION - NO ALT\n"
     ]
    },
    {
     "data": {
      "text/html": [
       "<img src=\"https://instagram.fsnc1-1.fna.fbcdn.net/t51.2885-15/e35/21576604_1217486998395193_5597277126190432256_n.jpg\" width=\"300\" height=\"300\"/>"
      ],
      "text/plain": [
       "<IPython.core.display.Image object>"
      ]
     },
     "metadata": {},
     "output_type": "display_data"
    },
    {
     "name": "stdout",
     "output_type": "stream",
     "text": [
      "photo\n",
      "https://www.instagram.com/p/BZBW2zvFAAk/\n",
      "\n",
      "\n",
      "\n",
      "♥️\n",
      "隔壁桌有學姊....\n",
      "#kattydayoff\n",
      "text\n"
     ]
    },
    {
     "data": {
      "text/html": [
       "<img src=\"https://instagram.fsnc1-1.fna.fbcdn.net/t51.2885-15/e35/21576626_173295276572323_8924651967586762752_n.jpg\" width=\"300\" height=\"300\"/>"
      ],
      "text/plain": [
       "<IPython.core.display.Image object>"
      ]
     },
     "metadata": {},
     "output_type": "display_data"
    },
    {
     "name": "stdout",
     "output_type": "stream",
     "text": [
      "photo\n",
      "https://www.instagram.com/p/BY5Ena_lJoz/\n",
      "\n",
      "\n",
      "\n",
      "發完瘋該睡了😴\n",
      "#kattyonthestreet #newyork#NYC#crewlife#thehighline\n",
      "text\n"
     ]
    },
    {
     "data": {
      "text/html": [
       "<img src=\"https://instagram.fsnc1-1.fna.fbcdn.net/t51.2885-15/e35/21433953_143731542899878_5046764719453503488_n.jpg\" width=\"300\" height=\"300\"/>"
      ],
      "text/plain": [
       "<IPython.core.display.Image object>"
      ]
     },
     "metadata": {},
     "output_type": "display_data"
    },
    {
     "name": "stdout",
     "output_type": "stream",
     "text": [
      "photo\n",
      "https://www.instagram.com/p/BYxRVMXFv8_/\n",
      "\n",
      "\n",
      "\n",
      "來紐約曬太陽會變歐美小麥肌嗎\n",
      "#謝謝我的攝影師 @katherine6600123 \n",
      "#hudsonriver #thehighline #sunshine#newyork#nyc#crewlife#kattyonthestreet\n",
      "text\n"
     ]
    },
    {
     "data": {
      "text/html": [
       "<img src=\"https://instagram.fsnc1-1.fna.fbcdn.net/t51.2885-15/e35/21433726_1917497201847771_6870541269379055616_n.jpg\" width=\"300\" height=\"300\"/>"
      ],
      "text/plain": [
       "<IPython.core.display.Image object>"
      ]
     },
     "metadata": {},
     "output_type": "display_data"
    },
    {
     "name": "stdout",
     "output_type": "stream",
     "text": [
      "photo\n",
      "https://www.instagram.com/p/BYwsjHxFwV7/\n",
      "\n",
      "\n",
      "\n",
      "今天終於出太陽🌞\n",
      "在think coffee喝藍瓶不要把我趕出去\n",
      "#crewlife#classmate #kattyandK#newyork#iloveNY\n",
      "text\n"
     ]
    },
    {
     "data": {
      "text/html": [
       "<img src=\"https://instagram.fsnc1-1.fna.fbcdn.net/t51.2885-15/e35/21373765_117494112249686_4813980953753944064_n.jpg\" width=\"300\" height=\"300\"/>"
      ],
      "text/plain": [
       "<IPython.core.display.Image object>"
      ]
     },
     "metadata": {},
     "output_type": "display_data"
    },
    {
     "name": "stdout",
     "output_type": "stream",
     "text": [
      "photo\n",
      "https://www.instagram.com/p/BYv_bOTF-yo/\n",
      "\n",
      "\n",
      "\n",
      "和神攝手出門隨便拍身高就180\n",
      "今天紐約下雨有夠冷腿要著涼❄️\n",
      "#kattyonthestreet #timesquare #nyc#newyork #crewlife#baseNY\n",
      "text\n"
     ]
    },
    {
     "data": {
      "text/html": [
       "<img src=\"https://instagram.fsnc1-1.fna.fbcdn.net/t51.2885-15/e35/21373472_1932958920287015_6921059125686173696_n.jpg\" width=\"300\" height=\"300\"/>"
      ],
      "text/plain": [
       "<IPython.core.display.Image object>"
      ]
     },
     "metadata": {},
     "output_type": "display_data"
    },
    {
     "name": "stdout",
     "output_type": "stream",
     "text": [
      "photo\n",
      "https://www.instagram.com/p/BYuN0paF8Ii/\n",
      "\n",
      "\n",
      "\n",
      "-\n",
      "沒去吃Peter Luger倒是來吃Smith Wollensky\n",
      "這就是巴菲特最愛的牛排，\n",
      "也是穿著Prada 的惡魔裡\n",
      "被安海瑟薇丟到水槽的牛排🍴\n",
      "可是真的太大根本吃不完好浪費😔\n",
      "忘記帶信用卡謝謝 @katherine6600123 金援\n",
      "#newyork #NYC#kattyinNY\n",
      "#我家在紐約#steak#yum\n",
      "text\n"
     ]
    },
    {
     "data": {
      "text/html": [
       "<img src=\"https://instagram.fsnc1-1.fna.fbcdn.net/t51.2885-15/e35/21372427_496063950739461_4533747012138434560_n.jpg\" width=\"300\" height=\"300\"/>"
      ],
      "text/plain": [
       "<IPython.core.display.Image object>"
      ]
     },
     "metadata": {},
     "output_type": "display_data"
    },
    {
     "name": "stdout",
     "output_type": "stream",
     "text": [
      "photo\n",
      "https://www.instagram.com/p/BYuMAqbFwpm/\n",
      "\n",
      "\n",
      "\n",
      "EXCEPTION - NO ALT\n"
     ]
    },
    {
     "data": {
      "text/html": [
       "<img src=\"https://instagram.fsnc1-1.fna.fbcdn.net/t51.2885-15/e35/21227271_497790687235116_7956269745806770176_n.jpg\" width=\"300\" height=\"300\"/>"
      ],
      "text/plain": [
       "<IPython.core.display.Image object>"
      ]
     },
     "metadata": {},
     "output_type": "display_data"
    },
    {
     "name": "stdout",
     "output_type": "stream",
     "text": [
      "photo\n",
      "https://www.instagram.com/p/BYiBz8TFKo_/\n",
      "\n",
      "\n",
      "\n",
      "這個景！我看了！第五次！\n",
      "#DUMBO#newyork#manhattan\n",
      "text\n"
     ]
    },
    {
     "data": {
      "text/html": [
       "<img src=\"https://instagram.fsnc1-1.fna.fbcdn.net/t51.2885-15/e35/21147497_681594535369386_178455577616187392_n.jpg\" width=\"300\" height=\"300\"/>"
      ],
      "text/plain": [
       "<IPython.core.display.Image object>"
      ]
     },
     "metadata": {},
     "output_type": "display_data"
    },
    {
     "name": "stdout",
     "output_type": "stream",
     "text": [
      "photo\n",
      "https://www.instagram.com/p/BYSIeKBFz6q/\n",
      "\n",
      "\n",
      "\n",
      "最喜歡吃早餐了♥️\n",
      "只是價錢嚇死媽媽\n",
      "#newyork #nyc#breakfast#sarabeths\n",
      "text\n"
     ]
    },
    {
     "data": {
      "text/html": [
       "<img src=\"https://instagram.fsnc1-1.fna.fbcdn.net/t51.2885-15/e35/21147196_1723011898003678_268476090685587456_n.jpg\" width=\"300\" height=\"300\"/>"
      ],
      "text/plain": [
       "<IPython.core.display.Image object>"
      ]
     },
     "metadata": {},
     "output_type": "display_data"
    },
    {
     "name": "stdout",
     "output_type": "stream",
     "text": [
      "photo\n",
      "https://www.instagram.com/p/BYQzlQwFrmO/\n",
      "\n",
      "\n",
      "\n",
      "NO DAY SHALL ERASE YOU FROM THE MEMORY OF TIME.\n",
      "#nyc#newyork\n",
      "text\n"
     ]
    },
    {
     "data": {
      "text/html": [
       "<img src=\"https://instagram.fsnc1-1.fna.fbcdn.net/t51.2885-15/e35/21040981_1388948837890016_4650114813106585600_n.jpg\" width=\"300\" height=\"300\"/>"
      ],
      "text/plain": [
       "<IPython.core.display.Image object>"
      ]
     },
     "metadata": {},
     "output_type": "display_data"
    },
    {
     "name": "stdout",
     "output_type": "stream",
     "text": [
      "photo\n",
      "https://www.instagram.com/p/BYQpZBcAXU-/\n",
      "\n",
      "\n",
      "\n",
      "終於來Top of the Rock\n",
      "大概拍了八百萬張才得到\n",
      "#skyline #crewlife #nyc #newyork\n",
      "text\n"
     ]
    },
    {
     "data": {
      "text/html": [
       "<img src=\"https://instagram.fsnc1-1.fna.fbcdn.net/t51.2885-15/e35/21041756_1074013262701155_8563253340329213952_n.jpg\" width=\"300\" height=\"300\"/>"
      ],
      "text/plain": [
       "<IPython.core.display.Image object>"
      ]
     },
     "metadata": {},
     "output_type": "display_data"
    },
    {
     "name": "stdout",
     "output_type": "stream",
     "text": [
      "photo\n",
      "https://www.instagram.com/p/BYPnizhlDrX/\n",
      "\n",
      "\n",
      "\n",
      "一人花了37塊💵上來一定要看個夠\n",
      "再累也要從黃昏看到天黑\n",
      "媽媽可能不懂為何我堅持要待到天黑\n",
      "可是真的很美很美照片根本看不出來到底有多壯觀\n",
      "#nyc #newyork #topoftherock\n",
      "text\n"
     ]
    },
    {
     "data": {
      "text/html": [
       "<img src=\"https://instagram.fsnc1-1.fna.fbcdn.net/t51.2885-15/e35/20987366_1587524937974300_862135202007220224_n.jpg\" width=\"300\" height=\"300\"/>"
      ],
      "text/plain": [
       "<IPython.core.display.Image object>"
      ]
     },
     "metadata": {},
     "output_type": "display_data"
    },
    {
     "name": "stdout",
     "output_type": "stream",
     "text": [
      "photo\n",
      "https://www.instagram.com/p/BYPkhN-loNI/\n",
      "\n",
      "\n",
      "\n",
      "上次看女神是三年前\n",
      "這次帶媽媽一起來還是很新鮮🗽\n",
      "#libertystatue #NYC#newyork\n",
      "#帶媽媽來我的home_base#crewlife\n",
      "text\n"
     ]
    },
    {
     "data": {
      "text/html": [
       "<img src=\"https://instagram.fsnc1-1.fna.fbcdn.net/t51.2885-15/e35/21041654_327858247685023_7960260577878605824_n.jpg\" width=\"300\" height=\"300\"/>"
      ],
      "text/plain": [
       "<IPython.core.display.Image object>"
      ]
     },
     "metadata": {},
     "output_type": "display_data"
    },
    {
     "name": "stdout",
     "output_type": "stream",
     "text": [
      "photo\n",
      "https://www.instagram.com/p/BYPXhhPlStl/\n",
      "\n",
      "\n",
      "\n",
      "上次去亨利艾迪 @henryeddy1985參觀展間、挑選我的訂製輕珠寶，現在你也可以擁有自己的訂製珠寶！\n",
      "亨利艾迪9/1將在松菸誠品一樓設櫃，會有那時展間沒看過的新品，我期待的是可以臨櫃挑選、訂製你的訂製輕珠寶、和姐妹的對鍊、最重要的是情人節快到了訂製一個珠寶送給愛人根本送進心坎裡啊☺️\n",
      "我覺得客製化最吸引人了，就是一種只有我才有的心態😏就像愛人只屬於我一個人的概念☺️\n",
      "喔對了，除了訂製外後續產品的維修、保養也包辦啦♥️\n",
      "我的訂製珠寶下次再來開箱♥️♥️♥️♥️♥️\n",
      "#handmade#jewelry#亨利艾迪#design\n",
      "text\n"
     ]
    },
    {
     "data": {
      "text/html": [
       "<img src=\"https://instagram.fsnc1-1.fna.fbcdn.net/t51.2885-15/e35/20987324_102127030524036_6233187772128034816_n.jpg\" width=\"300\" height=\"300\"/>"
      ],
      "text/plain": [
       "<IPython.core.display.Image object>"
      ]
     },
     "metadata": {},
     "output_type": "display_data"
    },
    {
     "name": "stdout",
     "output_type": "stream",
     "text": [
      "photo\n",
      "https://www.instagram.com/p/BYN2Wbll7K7/\n",
      "\n",
      "\n",
      "\n",
      "媽媽的跟飛初體驗♥️\n",
      "幸運能在換制服前讓媽媽看到女鵝on duty認真上班的樣子😂\n",
      "#我的超級VIP#JFK\n",
      "#crewlife#momanddaughter\n",
      "text\n"
     ]
    },
    {
     "data": {
      "text/html": [
       "<img src=\"https://instagram.fsnc1-1.fna.fbcdn.net/t51.2885-15/e35/21040881_121388845181406_907091183040200704_n.jpg\" width=\"300\" height=\"300\"/>"
      ],
      "text/plain": [
       "<IPython.core.display.Image object>"
      ]
     },
     "metadata": {},
     "output_type": "display_data"
    },
    {
     "name": "stdout",
     "output_type": "stream",
     "text": [
      "photo\n",
      "https://www.instagram.com/p/BYLAaUylUKp/\n",
      "\n",
      "\n",
      "\n",
      "再五分鐘下班～～～\n",
      "今天待命很充實\n",
      "查loading、開票、寫好英文信、印好ESTA\n",
      "後天帶媽媽跟飛我好緊張😶\n",
      "text\n"
     ]
    },
    {
     "data": {
      "text/html": [
       "<img src=\"https://instagram.fsnc1-1.fna.fbcdn.net/t51.2885-15/e35/21040970_810057119175294_8120493287862697984_n.jpg\" width=\"300\" height=\"300\"/>"
      ],
      "text/plain": [
       "<IPython.core.display.Image object>"
      ]
     },
     "metadata": {},
     "output_type": "display_data"
    },
    {
     "name": "stdout",
     "output_type": "stream",
     "text": [
      "photo\n",
      "https://www.instagram.com/p/BYFIAWNleOZ/\n",
      "\n",
      "\n",
      "\n",
      "老游你太晚來了😆\n",
      "#sis#kattydayoff\n",
      "text\n"
     ]
    },
    {
     "data": {
      "text/html": [
       "<img src=\"https://instagram.fsnc1-1.fna.fbcdn.net/t51.2885-15/e35/20987543_1905777496339108_627517631301156864_n.jpg\" width=\"300\" height=\"300\"/>"
      ],
      "text/plain": [
       "<IPython.core.display.Image object>"
      ]
     },
     "metadata": {},
     "output_type": "display_data"
    },
    {
     "name": "stdout",
     "output_type": "stream",
     "text": [
      "photo\n",
      "https://www.instagram.com/p/BYBZewOFn8f/\n",
      "\n",
      "\n",
      "\n",
      "#hongkong #victoriaharbour\n",
      "text\n"
     ]
    },
    {
     "data": {
      "text/html": [
       "<img src=\"https://instagram.fsnc1-1.fna.fbcdn.net/t51.2885-15/e35/20686909_465426027174291_4240921227138433024_n.jpg\" width=\"300\" height=\"300\"/>"
      ],
      "text/plain": [
       "<IPython.core.display.Image object>"
      ]
     },
     "metadata": {},
     "output_type": "display_data"
    },
    {
     "name": "stdout",
     "output_type": "stream",
     "text": [
      "photo\n",
      "https://www.instagram.com/p/BXpxf_9F5s9/\n",
      "\n",
      "\n",
      "\n",
      "EXCEPTION - NO ALT\n"
     ]
    },
    {
     "data": {
      "text/html": [
       "<img src=\"https://instagram.fsnc1-1.fna.fbcdn.net/t51.2885-15/e35/20766251_113938822599976_403325784468488192_n.jpg\" width=\"300\" height=\"300\"/>"
      ],
      "text/plain": [
       "<IPython.core.display.Image object>"
      ]
     },
     "metadata": {},
     "output_type": "display_data"
    },
    {
     "name": "stdout",
     "output_type": "stream",
     "text": [
      "photo\n",
      "https://www.instagram.com/p/BXnSGYhlRro/\n",
      "\n",
      "\n",
      "\n",
      "飛到外站一個人在房間就會大播音樂才不會太安靜😉\n",
      "Spotify的Premium會員可以先下載音樂在沒有網路的情況下可以離線收聽。而且不佔用任何內存✌🏻\n",
      "到我的個人檔案點選連結\n",
      "http://amly.me/XXEd\n",
      "加入premium會員可免費試聽60天♥️\n",
      "#spotifytw  #Viralaccess#crewlife\n",
      "text\n"
     ]
    },
    {
     "data": {
      "text/html": [
       "<img src=\"https://instagram.fsnc1-1.fna.fbcdn.net/t51.2885-15/e35/20634011_1950616181882885_2579129510515441664_n.jpg\" width=\"300\" height=\"300\"/>"
      ],
      "text/plain": [
       "<IPython.core.display.Image object>"
      ]
     },
     "metadata": {},
     "output_type": "display_data"
    },
    {
     "name": "stdout",
     "output_type": "stream",
     "text": [
      "photo\n",
      "https://www.instagram.com/p/BXkANjeltrZ/\n",
      "\n",
      "\n",
      "\n",
      "今天的Duty是在商務艙當孩子王👑\n",
      "他一直跑來跑去、把爆爆龍丟來丟去！\n",
      "整個RL都是他的遊樂園\n",
      "#含著金湯匙出生的孩子#crewlife\n",
      "#圖二Howard表示爆爆龍也要一起拍\n",
      "#singapore\n",
      "text\n"
     ]
    },
    {
     "data": {
      "text/html": [
       "<img src=\"https://instagram.fsnc1-1.fna.fbcdn.net/t51.2885-15/e35/20635219_1385139481602158_7457056325374050304_n.jpg\" width=\"300\" height=\"300\"/>"
      ],
      "text/plain": [
       "<IPython.core.display.Image object>"
      ]
     },
     "metadata": {},
     "output_type": "display_data"
    },
    {
     "name": "stdout",
     "output_type": "stream",
     "text": [
      "photo\n",
      "https://www.instagram.com/p/BXiNVoTl4TE/\n",
      "\n",
      "\n",
      "\n",
      "今天趁著DO來找Mandy處理我的頭髮！坐了一個下午才完成的😉\n",
      "喜歡Mandy幫我調的髮色是帶綠的棕色，好期待它腿色的變化、又燙了大波浪捲捲♥️\n",
      "好喜歡現在的髮色和捲度😊\n",
      "快來找 @mandyweng_ 弄美美的頭髮\n",
      "👉🏻AFLOAT TAIPEI\n",
      "📍台北市大安區敦化南路一段252巷34號2樓\n",
      "#kattydayoff #afloat\n",
      "text\n"
     ]
    },
    {
     "data": {
      "text/html": [
       "<img src=\"https://instagram.fsnc1-1.fna.fbcdn.net/t51.2885-15/e35/20582918_123690628253877_8966656103496548352_n.jpg\" width=\"300\" height=\"300\"/>"
      ],
      "text/plain": [
       "<IPython.core.display.Image object>"
      ]
     },
     "metadata": {},
     "output_type": "display_data"
    },
    {
     "name": "stdout",
     "output_type": "stream",
     "text": [
      "photo\n",
      "https://www.instagram.com/p/BXX8yvvlp1Q/\n",
      "\n",
      "\n",
      "\n",
      "終究還是被抓😑\n",
      "777飛，去10回10這個loading很可以\n",
      "還有美麗同學一起飛我很滿意✌🏻\n",
      "齁我們上次一起飛是溫哥華下雪還一起吃去火鍋\n",
      "都隔多久了～～～\n",
      "被assign站boarding好久沒「你好歡迎登機😄」喔\n",
      "#crewlife\n",
      "text\n"
     ]
    },
    {
     "data": {
      "text/html": [
       "<img src=\"https://instagram.fsnc1-1.fna.fbcdn.net/t51.2885-15/e35/20478615_143610262887990_6255685721357549568_n.jpg\" width=\"300\" height=\"300\"/>"
      ],
      "text/plain": [
       "<IPython.core.display.Image object>"
      ]
     },
     "metadata": {},
     "output_type": "display_data"
    },
    {
     "name": "stdout",
     "output_type": "stream",
     "text": [
      "photo\n",
      "https://www.instagram.com/p/BXRqC4eFu7L/\n",
      "\n",
      "\n",
      "\n",
      "待命連四之二😌\n",
      "目送大家去飛\n",
      "吃一頓難吃的員工餐\n",
      "再聊個天剩45分鐘就可以回家了✌🏻\n",
      "#crewlife #sis#evaair\n",
      "text\n"
     ]
    },
    {
     "data": {
      "text/html": [
       "<img src=\"https://instagram.fsnc1-1.fna.fbcdn.net/t51.2885-15/e35/20482464_1953691034908441_4665618030137442304_n.jpg\" width=\"300\" height=\"300\"/>"
      ],
      "text/plain": [
       "<IPython.core.display.Image object>"
      ]
     },
     "metadata": {},
     "output_type": "display_data"
    },
    {
     "name": "stdout",
     "output_type": "stream",
     "text": [
      "photo\n",
      "https://www.instagram.com/p/BXP9ATaFNdc/\n",
      "\n",
      "\n",
      "\n",
      "@carol216yu 不要愛上我😌\n",
      "#dayoff#kattydayoff\n",
      "text\n"
     ]
    },
    {
     "data": {
      "text/html": [
       "<img src=\"https://instagram.fsnc1-1.fna.fbcdn.net/t51.2885-15/e35/20583284_170750176802147_2235895098816593920_n.jpg\" width=\"300\" height=\"300\"/>"
      ],
      "text/plain": [
       "<IPython.core.display.Image object>"
      ]
     },
     "metadata": {},
     "output_type": "display_data"
    },
    {
     "name": "stdout",
     "output_type": "stream",
     "text": [
      "photo\n",
      "https://www.instagram.com/p/BXLP7DOl9Nb/\n",
      "\n",
      "\n",
      "\n",
      "謝謝可愛的妳，我收到了♥️\n",
      "#crewlife\n",
      "text\n"
     ]
    },
    {
     "data": {
      "text/html": [
       "<img src=\"https://instagram.fsnc1-1.fna.fbcdn.net/t51.2885-15/e35/20346890_1394247567355950_6250881847681613824_n.jpg\" width=\"300\" height=\"300\"/>"
      ],
      "text/plain": [
       "<IPython.core.display.Image object>"
      ]
     },
     "metadata": {},
     "output_type": "display_data"
    },
    {
     "name": "stdout",
     "output_type": "stream",
     "text": [
      "photo\n",
      "https://www.instagram.com/p/BXEQUK-F1M7/\n",
      "\n",
      "\n",
      "\n",
      "-\n",
      "：紐約好冷我的肚子要著涼了\n",
      "：三小 你裸體嗎？\n",
      "（傳照片）\n",
      "：那幹嘛硬要這樣穿？把衣服放下啊\n",
      "我不是故意把衣服往上捲所以也放不下來啊......\n",
      "#又是一件看不懂的衣服#newyork #nyc #kattyonthestreet\n",
      "text\n"
     ]
    },
    {
     "data": {
      "text/html": [
       "<img src=\"https://instagram.fsnc1-1.fna.fbcdn.net/t51.2885-15/e35/20225250_316292728829049_6963401705018884096_n.jpg\" width=\"300\" height=\"300\"/>"
      ],
      "text/plain": [
       "<IPython.core.display.Image object>"
      ]
     },
     "metadata": {},
     "output_type": "display_data"
    },
    {
     "name": "stdout",
     "output_type": "stream",
     "text": [
      "photo\n",
      "https://www.instagram.com/p/BW_mT57lyQd/\n",
      "\n",
      "\n",
      "\n",
      "剛好踫上這個夏季紐約最冷的兩天\n",
      "整天天空都灰灰的，氣溫也驟降到只剩18度\n",
      "害我肚子都要著涼了\n",
      "還好是陰天\n",
      "去中央公園騎腳踏車才不會被曬死🚲\n",
      "#來紐約避暑#nyc #newyork #crewlife \n",
      "#centralpark #ilovenyc\n",
      "text\n"
     ]
    },
    {
     "data": {
      "text/html": [
       "<img src=\"https://instagram.fsnc1-1.fna.fbcdn.net/t51.2885-15/e35/20398813_893235794162389_832425757874585600_n.jpg\" width=\"300\" height=\"300\"/>"
      ],
      "text/plain": [
       "<IPython.core.display.Image object>"
      ]
     },
     "metadata": {},
     "output_type": "display_data"
    },
    {
     "name": "stdout",
     "output_type": "stream",
     "text": [
      "photo\n",
      "https://www.instagram.com/p/BW_i4L9FhC4/\n",
      "\n",
      "\n",
      "\n",
      "最喜歡吃甜點了😋\n",
      "#LadyM#newyork #nyc #crewlife #sweet#yumyum\n",
      "text\n"
     ]
    },
    {
     "data": {
      "text/html": [
       "<img src=\"https://instagram.fsnc1-1.fna.fbcdn.net/t51.2885-15/e35/20393534_1691685267805948_7051904612869079040_n.jpg\" width=\"300\" height=\"300\"/>"
      ],
      "text/plain": [
       "<IPython.core.display.Image object>"
      ]
     },
     "metadata": {},
     "output_type": "display_data"
    },
    {
     "name": "stdout",
     "output_type": "stream",
     "text": [
      "photo\n",
      "https://www.instagram.com/p/BW-v119l5Df/\n",
      "\n",
      "\n",
      "\n",
      "最喜歡吃早餐了\n",
      "#breakfast #nyc#newyork\n",
      "text\n"
     ]
    },
    {
     "data": {
      "text/html": [
       "<img src=\"https://instagram.fsnc1-1.fna.fbcdn.net/t51.2885-15/e35/20225760_688506218005791_1457733542602604544_n.jpg\" width=\"300\" height=\"300\"/>"
      ],
      "text/plain": [
       "<IPython.core.display.Image object>"
      ]
     },
     "metadata": {},
     "output_type": "display_data"
    },
    {
     "name": "stdout",
     "output_type": "stream",
     "text": [
      "photo\n",
      "https://www.instagram.com/p/BW-Of5TlPPX/\n",
      "\n",
      "\n",
      "\n",
      "本月最期待的班！！！\n",
      "把我的VVIP陳小姐載到紐約♥️ #靜修老妹#SIS#BFF#crewlife#evaair #newyork#NYC#BR30\n",
      "#快來搭我的飛機#陳小姐早安歡迎登機\n",
      "text\n"
     ]
    },
    {
     "data": {
      "text/html": [
       "<img src=\"https://instagram.fsnc1-1.fna.fbcdn.net/t51.2885-15/e35/20214484_133864230440471_655645720015011840_n.jpg\" width=\"300\" height=\"300\"/>"
      ],
      "text/plain": [
       "<IPython.core.display.Image object>"
      ]
     },
     "metadata": {},
     "output_type": "display_data"
    },
    {
     "name": "stdout",
     "output_type": "stream",
     "text": [
      "photo\n",
      "https://www.instagram.com/p/BW892QzFLO1/\n",
      "\n",
      "\n",
      "\n",
      "下次畫畫如果我想上色拜託阻止我....\n",
      "text\n"
     ]
    },
    {
     "data": {
      "text/html": [
       "<img src=\"https://instagram.fsnc1-1.fna.fbcdn.net/t51.2885-15/e35/20347455_465130250513015_52478689266368512_n.jpg\" width=\"300\" height=\"300\"/>"
      ],
      "text/plain": [
       "<IPython.core.display.Image object>"
      ]
     },
     "metadata": {},
     "output_type": "display_data"
    },
    {
     "name": "stdout",
     "output_type": "stream",
     "text": [
      "photo\n",
      "https://www.instagram.com/p/BW15C4XF-6t/\n",
      "\n",
      "\n",
      "\n",
      "終於來畫這隻一直想完成的動物\n",
      "應該看得出這是什麼吧😵\n",
      "到後來那些花都在亂畫\n",
      "-\n",
      "去年沒完成的哈修塔特果然被丟掉了😂\n",
      "#crewlife #kattydayoff #escapeartist #paintingday\n",
      "text\n"
     ]
    },
    {
     "data": {
      "text/html": [
       "<img src=\"https://instagram.fsnc1-1.fna.fbcdn.net/t51.2885-15/e35/20184958_105974900073175_5648985586086707200_n.jpg\" width=\"300\" height=\"300\"/>"
      ],
      "text/plain": [
       "<IPython.core.display.Image object>"
      ]
     },
     "metadata": {},
     "output_type": "display_data"
    },
    {
     "name": "stdout",
     "output_type": "stream",
     "text": [
      "photo\n",
      "https://www.instagram.com/p/BW14Q_CFLIA/\n",
      "\n",
      "\n",
      "\n",
      "商務艙去0回2這個人數我很滿意👏🏻\n",
      "希望明早這兩個人都不小心睡過頭趕不上飛機\n",
      "#crewlife\n",
      "text\n"
     ]
    },
    {
     "data": {
      "text/html": [
       "<img src=\"https://instagram.fsnc1-1.fna.fbcdn.net/t51.2885-15/e35/20214358_117710088859298_4884629244468002816_n.jpg\" width=\"300\" height=\"300\"/>"
      ],
      "text/plain": [
       "<IPython.core.display.Image object>"
      ]
     },
     "metadata": {},
     "output_type": "display_data"
    },
    {
     "name": "stdout",
     "output_type": "stream",
     "text": [
      "photo\n",
      "https://www.instagram.com/p/BWzsxumlYBt/\n",
      "\n",
      "\n",
      "\n",
      "下個月班表我很滿意👾\n",
      "雖然待命還是很多\n",
      "可是和Cinna同飛我就知足了\n",
      "#crewlife\n",
      "text\n"
     ]
    },
    {
     "data": {
      "text/html": [
       "<img src=\"https://instagram.fsnc1-1.fna.fbcdn.net/t51.2885-15/e35/20225283_269930216822013_4414038315024515072_n.jpg\" width=\"300\" height=\"300\"/>"
      ],
      "text/plain": [
       "<IPython.core.display.Image object>"
      ]
     },
     "metadata": {},
     "output_type": "display_data"
    },
    {
     "name": "stdout",
     "output_type": "stream",
     "text": [
      "photo\n",
      "https://www.instagram.com/p/BWy3eT9laq3/\n",
      "\n",
      "\n",
      "\n",
      "EXCEPTION - NO ALT\n"
     ]
    },
    {
     "data": {
      "text/html": [
       "<img src=\"https://instagram.fsnc1-1.fna.fbcdn.net/t51.2885-15/e35/20180747_1948114675406834_1851812949677572096_n.jpg\" width=\"300\" height=\"300\"/>"
      ],
      "text/plain": [
       "<IPython.core.display.Image object>"
      ]
     },
     "metadata": {},
     "output_type": "display_data"
    },
    {
     "name": "stdout",
     "output_type": "stream",
     "text": [
      "photo\n",
      "https://www.instagram.com/p/BWuW6yXlx5L/\n",
      "\n",
      "\n",
      "\n",
      "EXCEPTION - NO ALT\n"
     ]
    },
    {
     "data": {
      "text/html": [
       "<img src=\"https://instagram.fsnc1-1.fna.fbcdn.net/t51.2885-15/e35/20225458_1473770032716598_251085454571470848_n.jpg\" width=\"300\" height=\"300\"/>"
      ],
      "text/plain": [
       "<IPython.core.display.Image object>"
      ]
     },
     "metadata": {},
     "output_type": "display_data"
    },
    {
     "name": "stdout",
     "output_type": "stream",
     "text": [
      "photo\n",
      "https://www.instagram.com/p/BWuDf8Il9CS/\n",
      "\n",
      "\n",
      "\n",
      "謝謝 @henryeddy1985 亨利艾迪Henry & Eddy Jewelry的邀請參觀他們的珠寶展間、並且讓我接觸到什麼是「訂製珠寶」。\n",
      "一開始聽到訂製珠寶就聯想到那肯定價位很高、還像媽媽奶奶戴的所謂「奢侈貴氣」就是有著大大的鑽石、不適合少女的那種珠寶😂\n",
      "但參觀過才知道亨利艾迪才知道我也可以擁有自己的訂製珠寶，價格親民、而且有著手作的細緻、加上低調的鑽石，就是所謂的「輕珠寶」\n",
      "我喜歡小巧精緻的手鍊，謝謝亨利艾迪為我製作我的第一個訂製輕珠寶，利用這次參觀展間量了我的手圍，我也自己挑選手鍊顏色和款式，好期待那條屬於我的手鍊！\n",
      "現在手鍊還在製作中，好期待拿到成品的那天😍\n",
      "到時候再和你們分享我的訂製輕珠寶！\n",
      "#亨利艾迪#手作珠寶#handmade#design#jewelry#accessories\n",
      "text\n"
     ]
    },
    {
     "data": {
      "text/html": [
       "<img src=\"https://instagram.fsnc1-1.fna.fbcdn.net/t51.2885-15/e35/20184049_321601938289036_1994530710014132224_n.jpg\" width=\"300\" height=\"300\"/>"
      ],
      "text/plain": [
       "<IPython.core.display.Image object>"
      ]
     },
     "metadata": {},
     "output_type": "display_data"
    },
    {
     "name": "stdout",
     "output_type": "stream",
     "text": [
      "photo\n",
      "https://www.instagram.com/p/BWnFq42lHLc/\n",
      "\n",
      "\n",
      "\n",
      "EXCEPTION - NO ALT\n"
     ]
    },
    {
     "data": {
      "text/html": [
       "<img src=\"https://instagram.fsnc1-1.fna.fbcdn.net/t51.2885-15/e35/20066102_871877152964872_3253022184339144704_n.jpg\" width=\"300\" height=\"300\"/>"
      ],
      "text/plain": [
       "<IPython.core.display.Image object>"
      ]
     },
     "metadata": {},
     "output_type": "display_data"
    },
    {
     "name": "stdout",
     "output_type": "stream",
     "text": [
      "photo\n",
      "https://www.instagram.com/p/BWjuc6eF-MY/\n",
      "\n",
      "\n",
      "\n",
      "EXCEPTION - NO ALT\n"
     ]
    },
    {
     "data": {
      "text/html": [
       "<img src=\"https://instagram.fsnc1-1.fna.fbcdn.net/t51.2885-15/e35/19931633_101260027198054_7887463648170344448_n.jpg\" width=\"300\" height=\"300\"/>"
      ],
      "text/plain": [
       "<IPython.core.display.Image object>"
      ]
     },
     "metadata": {},
     "output_type": "display_data"
    },
    {
     "name": "stdout",
     "output_type": "stream",
     "text": [
      "photo\n",
      "https://www.instagram.com/p/BWWgLmZlizb/\n",
      "\n",
      "\n",
      "\n",
      "Happy birthday Emma babe♥️\n",
      "#sis#bff#girlsnight#巨蟹寶包\n",
      "text\n"
     ]
    },
    {
     "data": {
      "text/html": [
       "<img src=\"https://instagram.fsnc1-1.fna.fbcdn.net/t51.2885-15/e35/19931509_1928027100808626_6447852599814127616_n.jpg\" width=\"300\" height=\"300\"/>"
      ],
      "text/plain": [
       "<IPython.core.display.Image object>"
      ]
     },
     "metadata": {},
     "output_type": "display_data"
    },
    {
     "name": "stdout",
     "output_type": "stream",
     "text": [
      "photo\n",
      "https://www.instagram.com/p/BWVUuR1FeQU/\n",
      "\n",
      "\n",
      "\n",
      "EXCEPTION - NO ALT\n"
     ]
    },
    {
     "data": {
      "text/html": [
       "<img src=\"https://instagram.fsnc1-1.fna.fbcdn.net/t51.2885-15/e35/19624742_1960069827563336_6342988782848966656_n.jpg\" width=\"300\" height=\"300\"/>"
      ],
      "text/plain": [
       "<IPython.core.display.Image object>"
      ]
     },
     "metadata": {},
     "output_type": "display_data"
    },
    {
     "name": "stdout",
     "output_type": "stream",
     "text": [
      "photo\n",
      "https://www.instagram.com/p/BV40DDiFSSj/\n",
      "\n",
      "\n",
      "\n",
      "四天連假怎麼一溜煙就到最後一天😕\n",
      "#kattydayoff#crewlife\n",
      "text\n"
     ]
    },
    {
     "data": {
      "text/html": [
       "<img src=\"https://instagram.fsnc1-1.fna.fbcdn.net/t51.2885-15/e35/19436213_233407700501997_4095397779415760896_n.jpg\" width=\"300\" height=\"300\"/>"
      ],
      "text/plain": [
       "<IPython.core.display.Image object>"
      ]
     },
     "metadata": {},
     "output_type": "display_data"
    },
    {
     "name": "stdout",
     "output_type": "stream",
     "text": [
      "photo\n",
      "https://www.instagram.com/p/BV3qA4jFnJ6/\n",
      "\n",
      "\n",
      "\n",
      "EXCEPTION - NO ALT\n"
     ]
    },
    {
     "data": {
      "text/html": [
       "<img src=\"https://instagram.fsnc1-1.fna.fbcdn.net/t51.2885-15/e35/19428621_1398539933561408_64643385268371456_n.jpg\" width=\"300\" height=\"300\"/>"
      ],
      "text/plain": [
       "<IPython.core.display.Image object>"
      ]
     },
     "metadata": {},
     "output_type": "display_data"
    },
    {
     "name": "stdout",
     "output_type": "stream",
     "text": [
      "photo\n",
      "https://www.instagram.com/p/BV1q673lZSh/\n",
      "\n",
      "\n",
      "\n",
      "這已經是今天第二杯了\n",
      "#kattydayoff\n",
      "text\n"
     ]
    },
    {
     "data": {
      "text/html": [
       "<img src=\"https://instagram.fsnc1-1.fna.fbcdn.net/t51.2885-15/e35/19425451_1288655121254080_1304064551964114944_n.jpg\" width=\"300\" height=\"300\"/>"
      ],
      "text/plain": [
       "<IPython.core.display.Image object>"
      ]
     },
     "metadata": {},
     "output_type": "display_data"
    },
    {
     "name": "stdout",
     "output_type": "stream",
     "text": [
      "photo\n",
      "https://www.instagram.com/p/BV1SVLGlPEq/\n",
      "\n",
      "\n",
      "\n",
      "(剛剛照片跑不出來重po一次😌）\n",
      "因為工作關係已經不是第一次去巴黎了。\n",
      "即使如此，每次飛到這還是會出門看巴黎鐵塔、拍拍照、逛街、去巴黎第一家咖啡店-花神咖啡喝下午茶。\n",
      "\n",
      "來甜點之都怎麼能錯過Pierre Hermé的玫瑰可頌、甜點和馬卡龍呢！前年帶媽媽來巴黎玩，她吃過玫瑰可頌後就像上癮，每次我飛巴黎都一定要我買回台灣♥️ -\n",
      "\n",
      "走在巴黎街道就會忍不住想唱歌轉圈跳耀，也總會看到很多情侶在街上擁吻，巴黎她就是有這種魔力，就算來這麼多次、看了無數次鐵塔，依舊不會膩，久久沒來就會想念！\n",
      ".\n",
      ".\n",
      "🌹也想享受妳的旅行嗎？康乃馨純淨棉☁️送妳去北海道&京都～快到我的個人檔案點連結 或 FB搜尋「康那香女人馨事」\n",
      "#paris#france#kattyonthestreet #crewlife #康那香女人馨旅行\n",
      "text\n"
     ]
    },
    {
     "data": {
      "text/html": [
       "<img src=\"https://instagram.fsnc1-1.fna.fbcdn.net/t51.2885-15/e35/19227859_229775027531411_4177459919949135872_n.jpg\" width=\"300\" height=\"300\"/>"
      ],
      "text/plain": [
       "<IPython.core.display.Image object>"
      ]
     },
     "metadata": {},
     "output_type": "display_data"
    },
    {
     "name": "stdout",
     "output_type": "stream",
     "text": [
      "photo\n",
      "https://www.instagram.com/p/BVzXlp-lW0B/\n",
      "\n",
      "\n",
      "\n",
      "-\n",
      "如果最近有搭我們家飛機買免稅品的話，\n",
      "一定會看到這個！\n",
      "DERM INSTITUDE的明星商品\n",
      "抗氧保濕水凍膜！\n",
      "（看到保濕兩個字眼睛都亮了😍）\n",
      "拿來當晚安凍膜擦薄薄一層，\n",
      "也可以上妝前擦增加妝的服貼度。\n",
      "\n",
      "小包裝設計，讓保養品不會每次打開使用就接觸到空氣和細菌，而且帶去外站用好輕巧方便♥️\n",
      "@derminstitute \n",
      "#DERMINSTITUDE#crewlife#mask\n",
      "text\n"
     ]
    },
    {
     "data": {
      "text/html": [
       "<img src=\"https://instagram.fsnc1-1.fna.fbcdn.net/t51.2885-15/e35/19228127_1884855028420237_7590640653072072704_n.jpg\" width=\"300\" height=\"300\"/>"
      ],
      "text/plain": [
       "<IPython.core.display.Image object>"
      ]
     },
     "metadata": {},
     "output_type": "display_data"
    },
    {
     "name": "stdout",
     "output_type": "stream",
     "text": [
      "photo\n",
      "https://www.instagram.com/p/BVmZCDFlGCA/\n",
      "\n",
      "\n",
      "\n",
      "又多了一個休假可以去的好地方\n",
      "#蔦屋書店#dayoff\n",
      "text\n"
     ]
    },
    {
     "data": {
      "text/html": [
       "<img src=\"https://instagram.fsnc1-1.fna.fbcdn.net/t51.2885-15/e35/19379741_175845129616478_8293058910537908224_n.jpg\" width=\"300\" height=\"300\"/>"
      ],
      "text/plain": [
       "<IPython.core.display.Image object>"
      ]
     },
     "metadata": {},
     "output_type": "display_data"
    },
    {
     "name": "stdout",
     "output_type": "stream",
     "text": [
      "photo\n",
      "https://www.instagram.com/p/BVg5V_YlUXI/\n",
      "\n",
      "\n",
      "\n",
      "-\n",
      "去了威尼斯當然不能錯過她旁邊的小島Burano，\n",
      "也就是彩色島或者又稱為蕾絲島。\n",
      "Burano被票選為「一輩子一定要去的19個絕美小鎮」之一。\n",
      "彩色島的特色就是每一戶人家都把自家房子外漆成各種繽紛的顏色！\n",
      "如果要更改房子外觀的顏色還得向政府申請，政府就會給一些可以選擇的色號讓這些房子夠繽紛，排起來才有美感呀！\n",
      "而且每一戶人家的窗台也都各有特色，有擺放盆栽的、也有擺放木製娃娃的也太可愛了吧！我忍不住拿相機搜集了好多可愛的窗戶♥️\n",
      "走在這裡好像進入童話世界，身邊好像圍繞粉紅泡泡直呼好可愛，即使這天剛下完雨還是不減我們的好心情☺️\n",
      "而且每次去到漂亮的地方都會想著下次我也要和那個誰一起來🤙🏼\n",
      ".\n",
      ".\n",
      "🌹也想享受妳的旅行嗎？康乃馨純淨棉☁️送妳去北海道&京都～快到我的個人檔案點連結 或 FB搜尋「康那香女人馨事」\n",
      "#burano#venice#Italy#kattyinitaly#kattyonthestreet #crewlife #康那香女人馨旅行\n",
      "text\n"
     ]
    },
    {
     "data": {
      "text/html": [
       "<img src=\"https://instagram.fsnc1-1.fna.fbcdn.net/t51.2885-15/e35/19227449_139661743254168_5605890038857465856_n.jpg\" width=\"300\" height=\"300\"/>"
      ],
      "text/plain": [
       "<IPython.core.display.Image object>"
      ]
     },
     "metadata": {},
     "output_type": "display_data"
    },
    {
     "name": "stdout",
     "output_type": "stream",
     "text": [
      "photo\n",
      "https://www.instagram.com/p/BVeaWJdFqNP/\n",
      "\n",
      "\n",
      "\n"
     ]
    }
   ],
   "source": [
    "import requests\n",
    "from selenium import webdriver\n",
    "from bs4 import BeautifulSoup\n",
    "import time\n",
    "from IPython.display import Image\n",
    "\n",
    "chrome_path = '/Users/jeff/Developing/Instagram/chromedriver'\n",
    "browser = webdriver.Chrome(chrome_path)\n",
    "time.sleep(1)\n",
    "url = 'https://www.instagram.com'\n",
    "browser.get(url)\n",
    "browser.find_element_by_link_text(\"Log in\").click()\n",
    "browser.find_element_by_name(\"username\").send_keys(\"holliday1371\")\n",
    "browser.find_element_by_name(\"password\").send_keys(\"ig1317ig\")\n",
    "browser.find_element_by_xpath(\"//span[@id='react-root']/section/main/article/div[2]/div/div/form/span/button\").click()\n",
    "time.sleep(1)\n",
    "for i in range(8):\n",
    "    time.sleep(1)\n",
    "    browser.execute_script('window.scrollTo(0, document.body.scrollHeight);')\n",
    "soup = BeautifulSoup(browser.page_source, 'lxml')\n",
    "# print(soup.prettify())\n",
    "\n",
    "a = []\n",
    "##photo link\n",
    "for fileLink in soup.select('._ha6c6._6d44r ._djdmk'):\n",
    "    a.append(url + fileLink.attrs['href'])\n",
    "a.reverse()\n",
    "##photos and descriptions files    \n",
    "\n",
    "\n",
    "##Video\n",
    "# for i in soup.select('._j12ff a'):\n",
    "#     print(i)\n",
    "    \n",
    "for link in soup.select('._4rbun img'):\n",
    "        try:\n",
    "            print(link.attrs['alt'])\n",
    "            print(\"text\")\n",
    "        except:   \n",
    "            print(\"EXCEPTION - NO ALT\")\n",
    "        try:\n",
    "            display(Image(url=link.attrs['src'], width=300, height=300))\n",
    "            print(\"photo\")\n",
    "            print(a.pop())\n",
    "        except:    \n",
    "            print(\"EXCEPTION - NO Photo\")\n",
    "            print(a.pop())\n",
    "        print(\"\\n\\n\")\n",
    "browser.quit()\n",
    "\n"
   ]
  }
 ],
 "metadata": {
  "kernelspec": {
   "display_name": "Python 3",
   "language": "python",
   "name": "python3"
  },
  "language_info": {
   "codemirror_mode": {
    "name": "ipython",
    "version": 3
   },
   "file_extension": ".py",
   "mimetype": "text/x-python",
   "name": "python",
   "nbconvert_exporter": "python",
   "pygments_lexer": "ipython3",
   "version": "3.6.1"
  }
 },
 "nbformat": 4,
 "nbformat_minor": 2
}
